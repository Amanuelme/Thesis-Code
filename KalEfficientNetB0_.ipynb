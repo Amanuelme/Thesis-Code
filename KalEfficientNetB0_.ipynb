{
  "nbformat": 4,
  "nbformat_minor": 0,
  "metadata": {
    "colab": {
      "name": "KalEfficientNetB0_.ipynb",
      "provenance": [],
      "collapsed_sections": []
    },
    "kernelspec": {
      "name": "python3",
      "display_name": "Python 3"
    },
    "language_info": {
      "name": "python"
    },
    "accelerator": "GPU"
  },
  "cells": [
    {
      "cell_type": "code",
      "metadata": {
        "colab": {
          "base_uri": "https://localhost:8080/"
        },
        "id": "bpzHEFkARPlp",
        "outputId": "1af99886-a31a-4cf2-bbf5-6152eafe2892"
      },
      "source": [
        "!pip install -U efficientnet"
      ],
      "execution_count": null,
      "outputs": [
        {
          "output_type": "stream",
          "name": "stdout",
          "text": [
            "Looking in indexes: https://pypi.org/simple, https://us-python.pkg.dev/colab-wheels/public/simple/\n",
            "Collecting efficientnet\n",
            "  Downloading efficientnet-1.1.1-py3-none-any.whl (18 kB)\n",
            "Requirement already satisfied: scikit-image in /usr/local/lib/python3.7/dist-packages (from efficientnet) (0.18.3)\n",
            "Collecting keras-applications<=1.0.8,>=1.0.7\n",
            "  Downloading Keras_Applications-1.0.8-py3-none-any.whl (50 kB)\n",
            "\u001b[K     |████████████████████████████████| 50 kB 3.3 MB/s \n",
            "\u001b[?25hRequirement already satisfied: h5py in /usr/local/lib/python3.7/dist-packages (from keras-applications<=1.0.8,>=1.0.7->efficientnet) (3.1.0)\n",
            "Requirement already satisfied: numpy>=1.9.1 in /usr/local/lib/python3.7/dist-packages (from keras-applications<=1.0.8,>=1.0.7->efficientnet) (1.21.6)\n",
            "Requirement already satisfied: cached-property in /usr/local/lib/python3.7/dist-packages (from h5py->keras-applications<=1.0.8,>=1.0.7->efficientnet) (1.5.2)\n",
            "Requirement already satisfied: PyWavelets>=1.1.1 in /usr/local/lib/python3.7/dist-packages (from scikit-image->efficientnet) (1.3.0)\n",
            "Requirement already satisfied: networkx>=2.0 in /usr/local/lib/python3.7/dist-packages (from scikit-image->efficientnet) (2.6.3)\n",
            "Requirement already satisfied: matplotlib!=3.0.0,>=2.0.0 in /usr/local/lib/python3.7/dist-packages (from scikit-image->efficientnet) (3.2.2)\n",
            "Requirement already satisfied: imageio>=2.3.0 in /usr/local/lib/python3.7/dist-packages (from scikit-image->efficientnet) (2.4.1)\n",
            "Requirement already satisfied: tifffile>=2019.7.26 in /usr/local/lib/python3.7/dist-packages (from scikit-image->efficientnet) (2021.11.2)\n",
            "Requirement already satisfied: pillow!=7.1.0,!=7.1.1,>=4.3.0 in /usr/local/lib/python3.7/dist-packages (from scikit-image->efficientnet) (7.1.2)\n",
            "Requirement already satisfied: scipy>=1.0.1 in /usr/local/lib/python3.7/dist-packages (from scikit-image->efficientnet) (1.4.1)\n",
            "Requirement already satisfied: pyparsing!=2.0.4,!=2.1.2,!=2.1.6,>=2.0.1 in /usr/local/lib/python3.7/dist-packages (from matplotlib!=3.0.0,>=2.0.0->scikit-image->efficientnet) (3.0.9)\n",
            "Requirement already satisfied: kiwisolver>=1.0.1 in /usr/local/lib/python3.7/dist-packages (from matplotlib!=3.0.0,>=2.0.0->scikit-image->efficientnet) (1.4.2)\n",
            "Requirement already satisfied: python-dateutil>=2.1 in /usr/local/lib/python3.7/dist-packages (from matplotlib!=3.0.0,>=2.0.0->scikit-image->efficientnet) (2.8.2)\n",
            "Requirement already satisfied: cycler>=0.10 in /usr/local/lib/python3.7/dist-packages (from matplotlib!=3.0.0,>=2.0.0->scikit-image->efficientnet) (0.11.0)\n",
            "Requirement already satisfied: typing-extensions in /usr/local/lib/python3.7/dist-packages (from kiwisolver>=1.0.1->matplotlib!=3.0.0,>=2.0.0->scikit-image->efficientnet) (4.2.0)\n",
            "Requirement already satisfied: six>=1.5 in /usr/local/lib/python3.7/dist-packages (from python-dateutil>=2.1->matplotlib!=3.0.0,>=2.0.0->scikit-image->efficientnet) (1.15.0)\n",
            "Installing collected packages: keras-applications, efficientnet\n",
            "Successfully installed efficientnet-1.1.1 keras-applications-1.0.8\n"
          ]
        }
      ]
    },
    {
      "cell_type": "code",
      "metadata": {
        "id": "QtfPVXPZRRXA"
      },
      "source": [
        "from tensorflow.keras.applications import EfficientNetB0"
      ],
      "execution_count": null,
      "outputs": []
    },
    {
      "cell_type": "code",
      "metadata": {
        "colab": {
          "base_uri": "https://localhost:8080/"
        },
        "id": "R_cBA3ERSJnh",
        "outputId": "404c0e50-7f73-4ce0-a067-3f15585ada14"
      },
      "source": [
        "%pylab inline\n",
        "import pandas as pd"
      ],
      "execution_count": null,
      "outputs": [
        {
          "output_type": "stream",
          "name": "stdout",
          "text": [
            "Populating the interactive namespace from numpy and matplotlib\n"
          ]
        }
      ]
    },
    {
      "cell_type": "code",
      "metadata": {
        "id": "RZQJsWYCSMIk"
      },
      "source": [
        "import matplotlib.pyplot as plt\n",
        "import numpy as np\n",
        "import os\n",
        "import PIL\n",
        "import tensorflow as tf\n",
        "\n",
        "from tensorflow import keras\n",
        "from tensorflow.keras import layers\n",
        "from tensorflow.keras.models import Sequential\n",
        "\n",
        "import pathlib"
      ],
      "execution_count": null,
      "outputs": []
    },
    {
      "cell_type": "code",
      "metadata": {
        "colab": {
          "base_uri": "https://localhost:8080/"
        },
        "id": "dhd6bLlqSU1s",
        "outputId": "db35aab2-2ced-4e6f-87af-7ea8691c5e70"
      },
      "source": [
        "from google.colab import drive\n",
        "drive.mount('/content/drive')"
      ],
      "execution_count": null,
      "outputs": [
        {
          "output_type": "stream",
          "name": "stdout",
          "text": [
            "Mounted at /content/drive\n"
          ]
        }
      ]
    },
    {
      "cell_type": "code",
      "metadata": {
        "id": "57u61k8VSO_0"
      },
      "source": [
        "train_dir = \"/content/drive/MyDrive/Dataset/Training_Data\"\n",
        "test_dir=\"/content/drive/MyDrive/Dataset/Test_Data\"\n",
        "\n",
        "IMG_SIZE = 224"
      ],
      "execution_count": null,
      "outputs": []
    },
    {
      "cell_type": "code",
      "metadata": {
        "colab": {
          "base_uri": "https://localhost:8080/"
        },
        "id": "L2j1jSUoSxHl",
        "outputId": "8aa11551-2e1c-4187-903e-f0a279c982ba"
      },
      "source": [
        "img_height,img_width=IMG_SIZE,IMG_SIZE\n",
        "batch_size=32\n",
        "train_ds = tf.keras.preprocessing.image_dataset_from_directory(\n",
        "  train_dir,\n",
        "  seed=123,\n",
        "  image_size=(img_height, img_width),\n",
        "  batch_size=batch_size,\n",
        "  label_mode = \"categorical\")\n",
        "\n",
        "test_ds = tf.keras.preprocessing.image_dataset_from_directory(\n",
        "  test_dir,\n",
        "  seed=123,\n",
        "  image_size=(img_height, img_width),\n",
        "  batch_size=1,\n",
        "  label_mode = \"categorical\")\n",
        "\n",
        "class_names = train_ds.class_names\n",
        "print(class_names)"
      ],
      "execution_count": null,
      "outputs": [
        {
          "output_type": "stream",
          "name": "stdout",
          "text": [
            "Found 251 files belonging to 5 classes.\n",
            "Found 63 files belonging to 5 classes.\n",
            "['antheacnose', 'bacterial leaf spot', 'cercospora', 'mottle virus', 'powdery mildew']\n"
          ]
        }
      ]
    },
    {
      "cell_type": "code",
      "metadata": {
        "id": "4DPQFp1LTEBL"
      },
      "source": [
        "num_classes = 5"
      ],
      "execution_count": null,
      "outputs": []
    },
    {
      "cell_type": "code",
      "metadata": {
        "id": "oI9nISFyTIlM"
      },
      "source": [
        "def build_model(num_classes):\n",
        "    inputs = layers.Input(shape=(IMG_SIZE, IMG_SIZE, 3))\n",
        "    x = inputs#img_augmentation(inputs)\n",
        "    model = EfficientNetB0(include_top=False, input_tensor=x, weights=\"imagenet\")\n",
        "\n",
        "    # Freeze the pretrained weights\n",
        "    model.trainable = False\n",
        "\n",
        "    # Rebuild top\n",
        "    x = layers.GlobalAveragePooling2D(name=\"avg_pool\")(model.output)\n",
        "    x = layers.BatchNormalization()(x)\n",
        "\n",
        "    top_dropout_rate = 0.2\n",
        "    x = layers.Dropout(top_dropout_rate, name=\"top_dropout\")(x)\n",
        "    outputs = layers.Dense(num_classes, activation=\"softmax\", name=\"pred\")(x)\n",
        "\n",
        "    # Compile\n",
        "    model = tf.keras.Model(inputs, outputs, name=\"EfficientNet\")\n",
        "    optimizer = tf.keras.optimizers.Adam(learning_rate=1e-2)\n",
        "    model.compile(\n",
        "        optimizer=optimizer, loss=\"categorical_crossentropy\", metrics=[\"accuracy\"]\n",
        "    )\n",
        "    return model"
      ],
      "execution_count": null,
      "outputs": []
    },
    {
      "cell_type": "code",
      "metadata": {
        "id": "U16eQlAkTNzb",
        "colab": {
          "base_uri": "https://localhost:8080/"
        },
        "outputId": "7f250a29-e684-4949-9b7a-8dccd8ed62ad"
      },
      "source": [
        "model = build_model(num_classes)"
      ],
      "execution_count": null,
      "outputs": [
        {
          "output_type": "stream",
          "name": "stdout",
          "text": [
            "Downloading data from https://storage.googleapis.com/keras-applications/efficientnetb0_notop.h5\n",
            "16711680/16705208 [==============================] - 0s 0us/step\n",
            "16719872/16705208 [==============================] - 0s 0us/step\n"
          ]
        }
      ]
    },
    {
      "cell_type": "code",
      "metadata": {
        "colab": {
          "base_uri": "https://localhost:8080/"
        },
        "id": "ojB-REC5TRQy",
        "outputId": "31d318dd-ba3d-4c92-89f6-f153793a0b1f"
      },
      "source": [
        "epochs=50\n",
        "history = model.fit(\n",
        "  train_ds,\n",
        "  validation_data=test_ds,\n",
        "  epochs=epochs\n",
        ")"
      ],
      "execution_count": null,
      "outputs": [
        {
          "output_type": "stream",
          "name": "stdout",
          "text": [
            "Epoch 1/50\n",
            "8/8 [==============================] - 59s 1s/step - loss: 1.8324 - accuracy: 0.4303 - val_loss: 1.1023 - val_accuracy: 0.5873\n",
            "Epoch 2/50\n",
            "8/8 [==============================] - 3s 190ms/step - loss: 0.6510 - accuracy: 0.7769 - val_loss: 1.1018 - val_accuracy: 0.5873\n",
            "Epoch 3/50\n",
            "8/8 [==============================] - 3s 185ms/step - loss: 0.4119 - accuracy: 0.8406 - val_loss: 1.0944 - val_accuracy: 0.5873\n",
            "Epoch 4/50\n",
            "8/8 [==============================] - 3s 185ms/step - loss: 0.2748 - accuracy: 0.8845 - val_loss: 1.1465 - val_accuracy: 0.5873\n",
            "Epoch 5/50\n",
            "8/8 [==============================] - 3s 188ms/step - loss: 0.2660 - accuracy: 0.9124 - val_loss: 1.1715 - val_accuracy: 0.5873\n",
            "Epoch 6/50\n",
            "8/8 [==============================] - 3s 184ms/step - loss: 0.2516 - accuracy: 0.9323 - val_loss: 1.1620 - val_accuracy: 0.6032\n",
            "Epoch 7/50\n",
            "8/8 [==============================] - 3s 193ms/step - loss: 0.2136 - accuracy: 0.9163 - val_loss: 1.1692 - val_accuracy: 0.6667\n",
            "Epoch 8/50\n",
            "8/8 [==============================] - 3s 192ms/step - loss: 0.1161 - accuracy: 0.9801 - val_loss: 1.2410 - val_accuracy: 0.6032\n",
            "Epoch 9/50\n",
            "8/8 [==============================] - 3s 189ms/step - loss: 0.1010 - accuracy: 0.9641 - val_loss: 1.1731 - val_accuracy: 0.6190\n",
            "Epoch 10/50\n",
            "8/8 [==============================] - 3s 186ms/step - loss: 0.0535 - accuracy: 0.9801 - val_loss: 1.1246 - val_accuracy: 0.6508\n",
            "Epoch 11/50\n",
            "8/8 [==============================] - 3s 180ms/step - loss: 0.0576 - accuracy: 0.9841 - val_loss: 1.2377 - val_accuracy: 0.6349\n",
            "Epoch 12/50\n",
            "8/8 [==============================] - 3s 189ms/step - loss: 0.0873 - accuracy: 0.9641 - val_loss: 1.3450 - val_accuracy: 0.6190\n",
            "Epoch 13/50\n",
            "8/8 [==============================] - 3s 181ms/step - loss: 0.0612 - accuracy: 0.9841 - val_loss: 1.2883 - val_accuracy: 0.6349\n",
            "Epoch 14/50\n",
            "8/8 [==============================] - 3s 185ms/step - loss: 0.0512 - accuracy: 0.9880 - val_loss: 1.3705 - val_accuracy: 0.6508\n",
            "Epoch 15/50\n",
            "8/8 [==============================] - 3s 185ms/step - loss: 0.0668 - accuracy: 0.9681 - val_loss: 1.3413 - val_accuracy: 0.6190\n",
            "Epoch 16/50\n",
            "8/8 [==============================] - 3s 181ms/step - loss: 0.0433 - accuracy: 0.9801 - val_loss: 1.3312 - val_accuracy: 0.6349\n",
            "Epoch 17/50\n",
            "8/8 [==============================] - 3s 188ms/step - loss: 0.0549 - accuracy: 0.9880 - val_loss: 1.4367 - val_accuracy: 0.6667\n",
            "Epoch 18/50\n",
            "8/8 [==============================] - 3s 190ms/step - loss: 0.1178 - accuracy: 0.9721 - val_loss: 1.4585 - val_accuracy: 0.6349\n",
            "Epoch 19/50\n",
            "8/8 [==============================] - 3s 186ms/step - loss: 0.0813 - accuracy: 0.9721 - val_loss: 1.4798 - val_accuracy: 0.6349\n",
            "Epoch 20/50\n",
            "8/8 [==============================] - 3s 187ms/step - loss: 0.0755 - accuracy: 0.9761 - val_loss: 1.6521 - val_accuracy: 0.6508\n",
            "Epoch 21/50\n",
            "8/8 [==============================] - 3s 186ms/step - loss: 0.0674 - accuracy: 0.9681 - val_loss: 1.6731 - val_accuracy: 0.5873\n",
            "Epoch 22/50\n",
            "8/8 [==============================] - 3s 185ms/step - loss: 0.1178 - accuracy: 0.9721 - val_loss: 1.6658 - val_accuracy: 0.5714\n",
            "Epoch 23/50\n",
            "8/8 [==============================] - 3s 179ms/step - loss: 0.1629 - accuracy: 0.9442 - val_loss: 1.6724 - val_accuracy: 0.6032\n",
            "Epoch 24/50\n",
            "8/8 [==============================] - 3s 184ms/step - loss: 0.2258 - accuracy: 0.9402 - val_loss: 1.7556 - val_accuracy: 0.6349\n",
            "Epoch 25/50\n",
            "8/8 [==============================] - 3s 180ms/step - loss: 0.1475 - accuracy: 0.9602 - val_loss: 1.5749 - val_accuracy: 0.6667\n",
            "Epoch 26/50\n",
            "8/8 [==============================] - 3s 185ms/step - loss: 0.0386 - accuracy: 0.9841 - val_loss: 1.7309 - val_accuracy: 0.6032\n",
            "Epoch 27/50\n",
            "8/8 [==============================] - 3s 182ms/step - loss: 0.0957 - accuracy: 0.9681 - val_loss: 1.6633 - val_accuracy: 0.5873\n",
            "Epoch 28/50\n",
            "8/8 [==============================] - 3s 183ms/step - loss: 0.0854 - accuracy: 0.9641 - val_loss: 1.8685 - val_accuracy: 0.6190\n",
            "Epoch 29/50\n",
            "8/8 [==============================] - 3s 186ms/step - loss: 0.1005 - accuracy: 0.9681 - val_loss: 2.0724 - val_accuracy: 0.5873\n",
            "Epoch 30/50\n",
            "8/8 [==============================] - 3s 182ms/step - loss: 0.1139 - accuracy: 0.9681 - val_loss: 2.3773 - val_accuracy: 0.5714\n",
            "Epoch 31/50\n",
            "8/8 [==============================] - 3s 190ms/step - loss: 0.0496 - accuracy: 0.9880 - val_loss: 2.4681 - val_accuracy: 0.6032\n",
            "Epoch 32/50\n",
            "8/8 [==============================] - 3s 188ms/step - loss: 0.1253 - accuracy: 0.9602 - val_loss: 2.3538 - val_accuracy: 0.5873\n",
            "Epoch 33/50\n",
            "8/8 [==============================] - 3s 183ms/step - loss: 0.0897 - accuracy: 0.9681 - val_loss: 2.3474 - val_accuracy: 0.6508\n",
            "Epoch 34/50\n",
            "8/8 [==============================] - 3s 182ms/step - loss: 0.0910 - accuracy: 0.9761 - val_loss: 2.4506 - val_accuracy: 0.5873\n",
            "Epoch 35/50\n",
            "8/8 [==============================] - 3s 189ms/step - loss: 0.1055 - accuracy: 0.9681 - val_loss: 2.6476 - val_accuracy: 0.6190\n",
            "Epoch 36/50\n",
            "8/8 [==============================] - 3s 194ms/step - loss: 0.0772 - accuracy: 0.9721 - val_loss: 2.7937 - val_accuracy: 0.5714\n",
            "Epoch 37/50\n",
            "8/8 [==============================] - 3s 184ms/step - loss: 0.0548 - accuracy: 0.9841 - val_loss: 2.9928 - val_accuracy: 0.6032\n",
            "Epoch 38/50\n",
            "8/8 [==============================] - 3s 179ms/step - loss: 0.0856 - accuracy: 0.9681 - val_loss: 2.9309 - val_accuracy: 0.5873\n",
            "Epoch 39/50\n",
            "8/8 [==============================] - 3s 189ms/step - loss: 0.1746 - accuracy: 0.9721 - val_loss: 2.8413 - val_accuracy: 0.6190\n",
            "Epoch 40/50\n",
            "8/8 [==============================] - 3s 186ms/step - loss: 0.1212 - accuracy: 0.9721 - val_loss: 3.0066 - val_accuracy: 0.6032\n",
            "Epoch 41/50\n",
            "8/8 [==============================] - 3s 190ms/step - loss: 0.0655 - accuracy: 0.9880 - val_loss: 2.9976 - val_accuracy: 0.6032\n",
            "Epoch 42/50\n",
            "8/8 [==============================] - 3s 188ms/step - loss: 0.0951 - accuracy: 0.9681 - val_loss: 3.1159 - val_accuracy: 0.5556\n",
            "Epoch 43/50\n",
            "8/8 [==============================] - 3s 187ms/step - loss: 0.0390 - accuracy: 0.9880 - val_loss: 3.3247 - val_accuracy: 0.5714\n",
            "Epoch 44/50\n",
            "8/8 [==============================] - 3s 188ms/step - loss: 0.1779 - accuracy: 0.9522 - val_loss: 3.5005 - val_accuracy: 0.5873\n",
            "Epoch 45/50\n",
            "8/8 [==============================] - 3s 185ms/step - loss: 0.1259 - accuracy: 0.9562 - val_loss: 3.8452 - val_accuracy: 0.5714\n",
            "Epoch 46/50\n",
            "8/8 [==============================] - 3s 190ms/step - loss: 0.0308 - accuracy: 0.9801 - val_loss: 4.2345 - val_accuracy: 0.6032\n",
            "Epoch 47/50\n",
            "8/8 [==============================] - 3s 185ms/step - loss: 0.0909 - accuracy: 0.9721 - val_loss: 3.7781 - val_accuracy: 0.5714\n",
            "Epoch 48/50\n",
            "8/8 [==============================] - 4s 258ms/step - loss: 0.1527 - accuracy: 0.9402 - val_loss: 3.6636 - val_accuracy: 0.6032\n",
            "Epoch 49/50\n",
            "8/8 [==============================] - 3s 182ms/step - loss: 0.2380 - accuracy: 0.9522 - val_loss: 4.2539 - val_accuracy: 0.6190\n",
            "Epoch 50/50\n",
            "8/8 [==============================] - 3s 182ms/step - loss: 0.0374 - accuracy: 0.9880 - val_loss: 4.3607 - val_accuracy: 0.6190\n"
          ]
        }
      ]
    },
    {
      "cell_type": "code",
      "metadata": {
        "colab": {
          "base_uri": "https://localhost:8080/"
        },
        "id": "xO-UW70pVdi2",
        "outputId": "87cea5fc-bad2-4573-f340-3699a803ad34"
      },
      "source": [
        "print(\"Accuracy of the model is-\" , model.evaluate(train_ds)[1]*100, \"%\")\n",
        "print(\"loss of the model is-\" , model.evaluate(test_ds)[0])"
      ],
      "execution_count": null,
      "outputs": [
        {
          "output_type": "stream",
          "name": "stdout",
          "text": [
            "8/8 [==============================] - 2s 73ms/step - loss: 0.0267 - accuracy: 0.9841\n",
            "Accuracy of the model is- 98.40637445449829 %\n",
            "63/63 [==============================] - 1s 14ms/step - loss: 4.3607 - accuracy: 0.6190\n",
            "loss of the model is- 4.360659599304199\n"
          ]
        }
      ]
    },
    {
      "cell_type": "code",
      "metadata": {
        "id": "an6rR_rKl_tc"
      },
      "source": [
        "model.save('/content/drive/MyDrive/Database/KalEfficientNetB0.h5')"
      ],
      "execution_count": null,
      "outputs": []
    },
    {
      "cell_type": "code",
      "metadata": {
        "colab": {
          "base_uri": "https://localhost:8080/",
          "height": 312
        },
        "id": "6GO0EawdSPGJ",
        "outputId": "c4bc11a2-30b3-4224-add7-28f030ad05a7"
      },
      "source": [
        "plt.figure(figsize=(6,4))\n",
        "plt.suptitle('Accuracy Plots', fontsize=14)\n",
        "plt.subplot(1,1,1)\n",
        "plt.plot(history.history['accuracy'], label='Train Accuracy')\n",
        "plt.plot(history.history['val_accuracy'], label='Test Accuracy')\n",
        "plt.legend()\n",
        "plt.xlabel('Number of epochs', fontsize=14)\n",
        "plt.ylabel('Accuracy', fontsize=14)\n",
        "plt.show()"
      ],
      "execution_count": null,
      "outputs": [
        {
          "output_type": "display_data",
          "data": {
            "text/plain": [
              "<Figure size 432x288 with 1 Axes>"
            ],
            "image/png": "[encoded data removed]"
          },
          "metadata": {
            "needs_background": "light"
          }
        }
      ]
    },
    {
      "cell_type": "code",
      "metadata": {
        "colab": {
          "base_uri": "https://localhost:8080/",
          "height": 312
        },
        "id": "XgQvpMZGVcoK",
        "outputId": "0c0bb0ca-e642-430e-fd32-3f0939aa59de"
      },
      "source": [
        "#plot to visualize the loss and accuracy against number of epochs\n",
        "plt.figure(figsize=(6,4))\n",
        "plt.suptitle('Loss Plots', fontsize=14)\n",
        "plt.subplot(1,1,1)\n",
        "plt.plot(history.history['loss'], label='Training Loss')\n",
        "plt.plot(history.history['val_loss'], label='Test Loss')\n",
        "plt.legend()\n",
        "plt.xlabel('Number of epochs', fontsize=14)\n",
        "plt.ylabel('Loss', fontsize=14)\n",
        "\n",
        "plt.show()\n",
        "\n"
      ],
      "execution_count": null,
      "outputs": [
        {
          "output_type": "display_data",
          "data": {
            "text/plain": [
              "<Figure size 432x288 with 1 Axes>"
            ],
            "image/png": "[encoded data removed]"
          },
          "metadata": {
            "needs_background": "light"
          }
        }
      ]
    }
  ]
}
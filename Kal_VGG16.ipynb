{
  "cells": [
    {
      "cell_type": "code",
      "execution_count": null,
      "metadata": {
        "id": "uw0SZP65Gb7m"
      },
      "outputs": [],
      "source": [
        "from tensorflow.compat.v1 import ConfigProto\n",
        "from tensorflow.compat.v1 import InteractiveSession\n",
        "config = ConfigProto()\n",
        "config.gpu_options.per_process_gpu_memory_fraction = 0.5\n",
        "config.gpu_options.allow_growth = True\n",
        "session = InteractiveSession(config=config)"
      ]
    },
    {
      "cell_type": "code",
      "execution_count": null,
      "metadata": {
        "id": "cgNEq6dqGszq"
      },
      "outputs": [],
      "source": [
        "# import the libraries as shown below\n",
        "\n",
        "from tensorflow.keras.layers import Input, Lambda, Dense, Flatten\n",
        "from tensorflow.keras.models import Model\n",
        "from tensorflow.keras.applications.vgg16 import VGG16\n",
        "#from keras.applications.vgg16 import VGG16\n",
        "from tensorflow.keras.applications.vgg16 import preprocess_input\n",
        "from tensorflow.keras.preprocessing import image\n",
        "from tensorflow.keras.preprocessing.image import ImageDataGenerator,load_img\n",
        "from tensorflow.keras.models import Sequential\n",
        "import numpy as np\n",
        "from glob import glob\n",
        "#import matplotlib.pyplot as plt"
      ]
    },
    {
      "cell_type": "code",
      "execution_count": null,
      "metadata": {
        "colab": {
          "base_uri": "https://localhost:8080/"
        },
        "id": "F5aUzwnVG8At",
        "outputId": "140207b8-64d2-4a2a-cd84-f11f4f69fbda"
      },
      "outputs": [
        {
          "output_type": "stream",
          "name": "stdout",
          "text": [
            "Mounted at /content/drive\n"
          ]
        }
      ],
      "source": [
        "from google.colab import drive\n",
        "drive.mount('/content/drive')"
      ]
    },
    {
      "cell_type": "code",
      "execution_count": null,
      "metadata": {
        "id": "r5Ee1MF0HHxj"
      },
      "outputs": [],
      "source": [
        "# re-size all the images to this\n",
        "IMAGE_SIZE = (224,224,3)\n",
        "\n",
        "train_path = '/content/drive/MyDrive/Dataset/Training_Data'\n",
        "valid_path = '/content/drive/MyDrive/Dataset/Test_Data'"
      ]
    },
    {
      "cell_type": "code",
      "execution_count": null,
      "metadata": {
        "colab": {
          "base_uri": "https://localhost:8080/"
        },
        "id": "pwe2Ypp_HP6M",
        "outputId": "430629e6-4828-4a82-cb56-50699cf28ba0"
      },
      "outputs": [
        {
          "output_type": "stream",
          "name": "stdout",
          "text": [
            "Downloading data from https://storage.googleapis.com/tensorflow/keras-applications/vgg16/vgg16_weights_tf_dim_ordering_tf_kernels_notop.h5\n",
            "58892288/58889256 [==============================] - 0s 0us/step\n",
            "58900480/58889256 [==============================] - 0s 0us/step\n"
          ]
        }
      ],
      "source": [
        "\n",
        "# Import the Vgg 16 library as shown below and add preprocessing layer to the front of VGG\n",
        "# Here we will be using imagenet weights\n",
        "vgg = VGG16(input_shape=IMAGE_SIZE, weights='imagenet', include_top=False)"
      ]
    },
    {
      "cell_type": "code",
      "execution_count": null,
      "metadata": {
        "id": "jHT-EX9QHrg0"
      },
      "outputs": [],
      "source": [
        "# don't train existing weights\n",
        "for layer in vgg.layers:\n",
        "    layer.trainable = False"
      ]
    },
    {
      "cell_type": "code",
      "execution_count": null,
      "metadata": {
        "id": "mDroHwDCIDlx"
      },
      "outputs": [],
      "source": [
        "# useful for getting number of output classes\n",
        "folders = glob('/content/drive/MyDrive/Dataset/Training_Data/*')"
      ]
    },
    {
      "cell_type": "code",
      "execution_count": null,
      "metadata": {
        "id": "5SpkJucaILVZ"
      },
      "outputs": [],
      "source": [
        "# our layers - you can add more if you want\n",
        "x = Flatten()(vgg.output)"
      ]
    },
    {
      "cell_type": "code",
      "execution_count": null,
      "metadata": {
        "id": "EBdTNQXkINJx"
      },
      "outputs": [],
      "source": [
        "\n",
        "prediction = Dense(len(folders), activation='softmax')(x)\n",
        "\n",
        "# create a model object\n",
        "model = Model(inputs=vgg.input, outputs=prediction)"
      ]
    },
    {
      "cell_type": "code",
      "execution_count": null,
      "metadata": {
        "colab": {
          "base_uri": "https://localhost:8080/"
        },
        "id": "6Ccige9_IuaF",
        "outputId": "f2c1fe0e-10d7-4df6-9549-07dbf11d903c"
      },
      "outputs": [
        {
          "output_type": "stream",
          "name": "stdout",
          "text": [
            "Model: \"model\"\n",
            "_________________________________________________________________\n",
            " Layer (type)                Output Shape              Param #   \n",
            "=================================================================\n",
            " input_1 (InputLayer)        [(None, 224, 224, 3)]     0         \n",
            "                                                                 \n",
            " block1_conv1 (Conv2D)       (None, 224, 224, 64)      1792      \n",
            "                                                                 \n",
            " block1_conv2 (Conv2D)       (None, 224, 224, 64)      36928     \n",
            "                                                                 \n",
            " block1_pool (MaxPooling2D)  (None, 112, 112, 64)      0         \n",
            "                                                                 \n",
            " block2_conv1 (Conv2D)       (None, 112, 112, 128)     73856     \n",
            "                                                                 \n",
            " block2_conv2 (Conv2D)       (None, 112, 112, 128)     147584    \n",
            "                                                                 \n",
            " block2_pool (MaxPooling2D)  (None, 56, 56, 128)       0         \n",
            "                                                                 \n",
            " block3_conv1 (Conv2D)       (None, 56, 56, 256)       295168    \n",
            "                                                                 \n",
            " block3_conv2 (Conv2D)       (None, 56, 56, 256)       590080    \n",
            "                                                                 \n",
            " block3_conv3 (Conv2D)       (None, 56, 56, 256)       590080    \n",
            "                                                                 \n",
            " block3_pool (MaxPooling2D)  (None, 28, 28, 256)       0         \n",
            "                                                                 \n",
            " block4_conv1 (Conv2D)       (None, 28, 28, 512)       1180160   \n",
            "                                                                 \n",
            " block4_conv2 (Conv2D)       (None, 28, 28, 512)       2359808   \n",
            "                                                                 \n",
            " block4_conv3 (Conv2D)       (None, 28, 28, 512)       2359808   \n",
            "                                                                 \n",
            " block4_pool (MaxPooling2D)  (None, 14, 14, 512)       0         \n",
            "                                                                 \n",
            " block5_conv1 (Conv2D)       (None, 14, 14, 512)       2359808   \n",
            "                                                                 \n",
            " block5_conv2 (Conv2D)       (None, 14, 14, 512)       2359808   \n",
            "                                                                 \n",
            " block5_conv3 (Conv2D)       (None, 14, 14, 512)       2359808   \n",
            "                                                                 \n",
            " block5_pool (MaxPooling2D)  (None, 7, 7, 512)         0         \n",
            "                                                                 \n",
            " flatten (Flatten)           (None, 25088)             0         \n",
            "                                                                 \n",
            " dense (Dense)               (None, 5)                 125445    \n",
            "                                                                 \n",
            "=================================================================\n",
            "Total params: 14,840,133\n",
            "Trainable params: 125,445\n",
            "Non-trainable params: 14,714,688\n",
            "_________________________________________________________________\n"
          ]
        }
      ],
      "source": [
        " \n",
        "# view the structure of the model\n",
        "model.summary()"
      ]
    },
    {
      "cell_type": "code",
      "execution_count": null,
      "metadata": {
        "id": "OSCjFwU8IzeE"
      },
      "outputs": [],
      "source": [
        "\n",
        "# tell the model what cost and optimization method to use\n",
        "model.compile(\n",
        "  loss='categorical_crossentropy',\n",
        "  optimizer='adam',\n",
        "  metrics=['accuracy']\n",
        ")"
      ]
    },
    {
      "cell_type": "code",
      "execution_count": null,
      "metadata": {
        "id": "V0yG8EmkI4kd"
      },
      "outputs": [],
      "source": [
        "\n",
        "# Use the Image Data Generator to import the images from the dataset\n",
        "from tensorflow.keras.preprocessing.image import ImageDataGenerator\n",
        "\n",
        "train_datagen = ImageDataGenerator(rescale = 1./255,\n",
        "                                   shear_range = 0.2,\n",
        "                                   zoom_range = 0.2,\n",
        "                                   horizontal_flip = True)\n",
        "\n",
        "test_datagen = ImageDataGenerator(rescale = 1./255)"
      ]
    },
    {
      "cell_type": "code",
      "execution_count": null,
      "metadata": {
        "colab": {
          "base_uri": "https://localhost:8080/"
        },
        "id": "nZGPHOhjI-R4",
        "outputId": "16f35580-e5e6-4360-8899-6563e60c10de"
      },
      "outputs": [
        {
          "output_type": "stream",
          "name": "stdout",
          "text": [
            "Found 251 images belonging to 5 classes.\n"
          ]
        }
      ],
      "source": [
        "# Make sure you provide the same target size as initialied for the image size\n",
        "training_set = train_datagen.flow_from_directory('/content/drive/MyDrive/Dataset/Training_Data',\n",
        "                                                 target_size = (224, 224),\n",
        "                                                 batch_size = 32,\n",
        "                                                 class_mode = 'categorical')"
      ]
    },
    {
      "cell_type": "code",
      "execution_count": null,
      "metadata": {
        "colab": {
          "base_uri": "https://localhost:8080/"
        },
        "id": "nNFgI83gJJZu",
        "outputId": "815542c0-11a5-49f3-d58e-9b2f12df3e31"
      },
      "outputs": [
        {
          "output_type": "stream",
          "name": "stdout",
          "text": [
            "Found 62 images belonging to 5 classes.\n"
          ]
        }
      ],
      "source": [
        "test_set = test_datagen.flow_from_directory('/content/drive/MyDrive/Dataset/Test_Data',\n",
        "                                            target_size = (224, 224),\n",
        "                                            batch_size = 1,\n",
        "                                            class_mode = 'categorical')"
      ]
    },
    {
      "cell_type": "code",
      "execution_count": null,
      "metadata": {
        "colab": {
          "base_uri": "https://localhost:8080/"
        },
        "id": "Drzx-tq9JXCL",
        "outputId": "ff347ec8-cd68-4795-d451-39f43803c349"
      },
      "outputs": [
        {
          "output_type": "stream",
          "name": "stdout",
          "text": [
            "Epoch 1/50\n",
            "8/8 [==============================] - 59s 6s/step - loss: 2.2998 - accuracy: 0.2829 - val_loss: 2.0813 - val_accuracy: 0.3871\n",
            "Epoch 2/50\n",
            "8/8 [==============================] - 6s 724ms/step - loss: 1.6757 - accuracy: 0.4382 - val_loss: 2.0015 - val_accuracy: 0.3871\n",
            "Epoch 3/50\n",
            "8/8 [==============================] - 6s 763ms/step - loss: 1.0078 - accuracy: 0.6335 - val_loss: 1.4095 - val_accuracy: 0.4355\n",
            "Epoch 4/50\n",
            "8/8 [==============================] - 6s 745ms/step - loss: 0.7884 - accuracy: 0.6932 - val_loss: 1.3156 - val_accuracy: 0.5161\n",
            "Epoch 5/50\n",
            "8/8 [==============================] - 6s 735ms/step - loss: 0.5237 - accuracy: 0.8247 - val_loss: 1.3325 - val_accuracy: 0.4677\n",
            "Epoch 6/50\n",
            "8/8 [==============================] - 6s 743ms/step - loss: 0.4401 - accuracy: 0.8805 - val_loss: 1.3342 - val_accuracy: 0.5968\n",
            "Epoch 7/50\n",
            "8/8 [==============================] - 6s 676ms/step - loss: 0.3489 - accuracy: 0.8924 - val_loss: 1.2643 - val_accuracy: 0.5806\n",
            "Epoch 8/50\n",
            "8/8 [==============================] - 6s 726ms/step - loss: 0.2658 - accuracy: 0.9482 - val_loss: 1.2209 - val_accuracy: 0.5968\n",
            "Epoch 9/50\n",
            "8/8 [==============================] - 6s 757ms/step - loss: 0.2313 - accuracy: 0.9562 - val_loss: 1.2732 - val_accuracy: 0.5968\n",
            "Epoch 10/50\n",
            "8/8 [==============================] - 6s 743ms/step - loss: 0.2008 - accuracy: 0.9681 - val_loss: 1.2061 - val_accuracy: 0.5323\n",
            "Epoch 11/50\n",
            "8/8 [==============================] - 6s 663ms/step - loss: 0.1914 - accuracy: 0.9721 - val_loss: 1.2023 - val_accuracy: 0.6613\n",
            "Epoch 12/50\n",
            "8/8 [==============================] - 6s 728ms/step - loss: 0.1573 - accuracy: 0.9801 - val_loss: 1.1920 - val_accuracy: 0.5484\n",
            "Epoch 13/50\n",
            "8/8 [==============================] - 6s 732ms/step - loss: 0.1492 - accuracy: 0.9841 - val_loss: 1.1881 - val_accuracy: 0.5806\n",
            "Epoch 14/50\n",
            "8/8 [==============================] - 6s 679ms/step - loss: 0.1449 - accuracy: 0.9801 - val_loss: 1.1949 - val_accuracy: 0.5968\n",
            "Epoch 15/50\n",
            "8/8 [==============================] - 6s 727ms/step - loss: 0.1440 - accuracy: 0.9761 - val_loss: 1.1605 - val_accuracy: 0.6613\n",
            "Epoch 16/50\n",
            "8/8 [==============================] - 6s 739ms/step - loss: 0.1092 - accuracy: 0.9920 - val_loss: 1.1744 - val_accuracy: 0.6129\n",
            "Epoch 17/50\n",
            "8/8 [==============================] - 6s 744ms/step - loss: 0.1046 - accuracy: 0.9841 - val_loss: 1.1566 - val_accuracy: 0.5968\n",
            "Epoch 18/50\n",
            "8/8 [==============================] - 6s 731ms/step - loss: 0.0966 - accuracy: 0.9841 - val_loss: 1.1962 - val_accuracy: 0.6129\n",
            "Epoch 19/50\n",
            "8/8 [==============================] - 6s 730ms/step - loss: 0.0825 - accuracy: 0.9920 - val_loss: 1.1893 - val_accuracy: 0.6290\n",
            "Epoch 20/50\n",
            "8/8 [==============================] - 6s 751ms/step - loss: 0.0771 - accuracy: 0.9960 - val_loss: 1.2269 - val_accuracy: 0.6290\n",
            "Epoch 21/50\n",
            "8/8 [==============================] - 6s 753ms/step - loss: 0.0807 - accuracy: 0.9841 - val_loss: 1.2078 - val_accuracy: 0.6129\n",
            "Epoch 22/50\n",
            "8/8 [==============================] - 6s 745ms/step - loss: 0.0667 - accuracy: 0.9920 - val_loss: 1.2086 - val_accuracy: 0.5968\n",
            "Epoch 23/50\n",
            "8/8 [==============================] - 6s 742ms/step - loss: 0.0787 - accuracy: 0.9880 - val_loss: 1.2667 - val_accuracy: 0.6290\n",
            "Epoch 24/50\n",
            "8/8 [==============================] - 6s 742ms/step - loss: 0.0757 - accuracy: 0.9880 - val_loss: 1.2240 - val_accuracy: 0.6129\n",
            "Epoch 25/50\n",
            "8/8 [==============================] - 6s 738ms/step - loss: 0.0744 - accuracy: 0.9880 - val_loss: 1.2767 - val_accuracy: 0.6290\n",
            "Epoch 26/50\n",
            "8/8 [==============================] - 6s 733ms/step - loss: 0.0706 - accuracy: 0.9960 - val_loss: 1.1925 - val_accuracy: 0.6129\n",
            "Epoch 27/50\n",
            "8/8 [==============================] - 6s 757ms/step - loss: 0.0602 - accuracy: 0.9960 - val_loss: 1.2299 - val_accuracy: 0.6452\n",
            "Epoch 28/50\n",
            "8/8 [==============================] - 6s 745ms/step - loss: 0.0467 - accuracy: 1.0000 - val_loss: 1.2237 - val_accuracy: 0.5968\n",
            "Epoch 29/50\n",
            "8/8 [==============================] - 6s 738ms/step - loss: 0.0403 - accuracy: 1.0000 - val_loss: 1.2693 - val_accuracy: 0.6129\n",
            "Epoch 30/50\n",
            "8/8 [==============================] - 6s 731ms/step - loss: 0.0554 - accuracy: 0.9960 - val_loss: 1.2741 - val_accuracy: 0.6452\n",
            "Epoch 31/50\n",
            "8/8 [==============================] - 6s 695ms/step - loss: 0.0425 - accuracy: 0.9960 - val_loss: 1.2668 - val_accuracy: 0.6129\n",
            "Epoch 32/50\n",
            "8/8 [==============================] - 6s 731ms/step - loss: 0.0622 - accuracy: 0.9801 - val_loss: 1.3773 - val_accuracy: 0.6129\n",
            "Epoch 33/50\n",
            "8/8 [==============================] - 6s 751ms/step - loss: 0.0570 - accuracy: 0.9880 - val_loss: 1.2592 - val_accuracy: 0.5484\n",
            "Epoch 34/50\n",
            "8/8 [==============================] - 6s 749ms/step - loss: 0.0593 - accuracy: 0.9920 - val_loss: 1.3660 - val_accuracy: 0.6452\n",
            "Epoch 35/50\n",
            "8/8 [==============================] - 6s 721ms/step - loss: 0.0457 - accuracy: 0.9960 - val_loss: 1.2767 - val_accuracy: 0.5806\n",
            "Epoch 36/50\n",
            "8/8 [==============================] - 6s 726ms/step - loss: 0.0439 - accuracy: 0.9920 - val_loss: 1.2522 - val_accuracy: 0.6290\n",
            "Epoch 37/50\n",
            "8/8 [==============================] - 6s 748ms/step - loss: 0.0347 - accuracy: 0.9960 - val_loss: 1.2788 - val_accuracy: 0.6290\n",
            "Epoch 38/50\n",
            "8/8 [==============================] - 6s 737ms/step - loss: 0.0285 - accuracy: 1.0000 - val_loss: 1.2620 - val_accuracy: 0.6129\n",
            "Epoch 39/50\n",
            "8/8 [==============================] - 6s 750ms/step - loss: 0.0329 - accuracy: 0.9960 - val_loss: 1.3046 - val_accuracy: 0.6613\n",
            "Epoch 40/50\n",
            "8/8 [==============================] - 6s 743ms/step - loss: 0.0243 - accuracy: 1.0000 - val_loss: 1.2689 - val_accuracy: 0.6129\n",
            "Epoch 41/50\n",
            "8/8 [==============================] - 6s 739ms/step - loss: 0.0288 - accuracy: 0.9960 - val_loss: 1.2877 - val_accuracy: 0.6452\n",
            "Epoch 42/50\n",
            "8/8 [==============================] - 6s 725ms/step - loss: 0.0272 - accuracy: 1.0000 - val_loss: 1.2748 - val_accuracy: 0.6129\n",
            "Epoch 43/50\n",
            "8/8 [==============================] - 6s 747ms/step - loss: 0.0261 - accuracy: 1.0000 - val_loss: 1.3382 - val_accuracy: 0.6452\n",
            "Epoch 44/50\n",
            "8/8 [==============================] - 6s 737ms/step - loss: 0.0490 - accuracy: 0.9880 - val_loss: 1.3223 - val_accuracy: 0.6129\n",
            "Epoch 45/50\n",
            "8/8 [==============================] - 6s 742ms/step - loss: 0.0352 - accuracy: 0.9960 - val_loss: 1.3006 - val_accuracy: 0.6129\n",
            "Epoch 46/50\n",
            "8/8 [==============================] - 6s 824ms/step - loss: 0.0241 - accuracy: 1.0000 - val_loss: 1.3324 - val_accuracy: 0.5968\n",
            "Epoch 47/50\n",
            "8/8 [==============================] - 6s 744ms/step - loss: 0.0304 - accuracy: 0.9920 - val_loss: 1.3339 - val_accuracy: 0.6290\n",
            "Epoch 48/50\n",
            "8/8 [==============================] - 6s 744ms/step - loss: 0.0309 - accuracy: 0.9960 - val_loss: 1.2836 - val_accuracy: 0.6129\n",
            "Epoch 49/50\n",
            "8/8 [==============================] - 6s 734ms/step - loss: 0.0269 - accuracy: 1.0000 - val_loss: 1.2882 - val_accuracy: 0.5806\n",
            "Epoch 50/50\n",
            "8/8 [==============================] - 6s 748ms/step - loss: 0.0334 - accuracy: 0.9880 - val_loss: 1.3292 - val_accuracy: 0.6290\n"
          ]
        }
      ],
      "source": [
        "# fit the model\n",
        "r = model.fit(\n",
        "  training_set,\n",
        "  validation_data=test_set,\n",
        "  epochs=50,\n",
        "  steps_per_epoch=len(training_set),\n",
        "  validation_steps=len(test_set)\n",
        ")"
      ]
    },
    {
      "cell_type": "code",
      "execution_count": null,
      "metadata": {
        "colab": {
          "base_uri": "https://localhost:8080/"
        },
        "id": "8j_KbCmFKw1s",
        "outputId": "269e9149-a177-4186-b6d8-99593813faec"
      },
      "outputs": [
        {
          "output_type": "stream",
          "name": "stdout",
          "text": [
            "8/8 [==============================] - 5s 637ms/step - loss: 0.0242 - accuracy: 0.9960\n",
            "Accuracy of the model is- 99.60159659385681 %\n",
            "62/62 [==============================] - 1s 14ms/step - loss: 1.3292 - accuracy: 0.6290\n",
            "loss of the model is- 1.3291634321212769\n"
          ]
        }
      ],
      "source": [
        "print(\"Accuracy of the model is-\" , model.evaluate(training_set)[1]*100, \"%\")\n",
        "print(\"loss of the model is-\" , model.evaluate(test_set)[0])"
      ]
    },
    {
      "cell_type": "code",
      "source": [
        "# plot the accuracy\n",
        "import matplotlib.pyplot as plt\n",
        "plt.plot(r.history['accuracy'], label='train acc')\n",
        "plt.plot(r.history['val_accuracy'], label='test acc')\n",
        "plt.legend()\n",
        "plt.show()\n",
        "plt.savefig('AccVal_acc')"
      ],
      "metadata": {
        "colab": {
          "base_uri": "https://localhost:8080/",
          "height": 282
        },
        "id": "QZPKzx393vQM",
        "outputId": "bd94bc8a-c405-4f78-e194-743abad7ce78"
      },
      "execution_count": null,
      "outputs": [
        {
          "output_type": "display_data",
          "data": {
            "text/plain": [
              "<Figure size 432x288 with 1 Axes>"
            ],
            "image/png": "[encoded data removed]"
          },
          "metadata": {
            "needs_background": "light"
          }
        },
        {
          "output_type": "display_data",
          "data": {
            "text/plain": [
              "<Figure size 432x288 with 0 Axes>"
            ]
          },
          "metadata": {}
        }
      ]
    },
    {
      "cell_type": "code",
      "execution_count": null,
      "metadata": {
        "colab": {
          "base_uri": "https://localhost:8080/",
          "height": 282
        },
        "id": "Qvc4cRnFJoFh",
        "outputId": "72f80847-6c50-45e0-dfd4-1064f2202572"
      },
      "outputs": [
        {
          "output_type": "display_data",
          "data": {
            "text/plain": [
              "<Figure size 432x288 with 1 Axes>"
            ],
            "image/png": "[encoded data removed]"
          },
          "metadata": {
            "needs_background": "light"
          }
        },
        {
          "output_type": "display_data",
          "data": {
            "text/plain": [
              "<Figure size 432x288 with 0 Axes>"
            ]
          },
          "metadata": {}
        }
      ],
      "source": [
        "# plot the loss\n",
        "\n",
        "plt.plot(r.history['loss'], label='train loss')\n",
        "plt.plot(r.history['val_loss'], label='test loss')\n",
        "plt.legend()\n",
        "plt.show()\n",
        "plt.savefig('LossVal_loss')\n",
        "\n"
      ]
    },
    {
      "cell_type": "code",
      "execution_count": null,
      "metadata": {
        "id": "f9MsQnYxJuRS"
      },
      "outputs": [],
      "source": [
        "# save it as a h5 file\n",
        "\n",
        "\n",
        "from tensorflow.keras.models import load_model\n",
        "\n",
        "model.save('/content/drive/MyDrive/Dataset/KalVGG16.h5')"
      ]
    },
    {
      "cell_type": "code",
      "execution_count": null,
      "metadata": {
        "id": "AJ0DSKr_Jwoj"
      },
      "outputs": [],
      "source": [
        "\n",
        "y_pred = model.predict(test_set)"
      ]
    },
    {
      "cell_type": "code",
      "execution_count": null,
      "metadata": {
        "colab": {
          "base_uri": "https://localhost:8080/"
        },
        "id": "N9q_LEqfJxZs",
        "outputId": "79e96f25-81bf-4c4a-f2e0-0587f483ed5b"
      },
      "outputs": [
        {
          "output_type": "execute_result",
          "data": {
            "text/plain": [
              "array([[9.73907351e-01, 2.29891911e-02, 1.17890108e-04, 1.35873083e-03,\n",
              "        1.62676326e-03],\n",
              "       [4.34383191e-03, 2.09841225e-02, 8.30793560e-01, 4.94225137e-02,\n",
              "        9.44559947e-02],\n",
              "       [2.01327712e-04, 1.02801959e-03, 1.14541501e-03, 1.03969024e-02,\n",
              "        9.87228274e-01],\n",
              "       [7.38625348e-01, 2.07693920e-01, 1.12246033e-02, 4.23107445e-02,\n",
              "        1.45387283e-04],\n",
              "       [2.80596733e-01, 3.79873882e-03, 2.21800036e-03, 2.39136931e-03,\n",
              "        7.10995138e-01],\n",
              "       [9.53817427e-01, 4.38894629e-02, 7.60713185e-04, 1.53184112e-03,\n",
              "        5.45714386e-07],\n",
              "       [4.36600670e-02, 8.34638536e-01, 8.78365040e-02, 1.45718816e-03,\n",
              "        3.24078016e-02],\n",
              "       [1.22444727e-01, 8.45402718e-01, 2.97108740e-02, 6.08262490e-04,\n",
              "        1.83348672e-03],\n",
              "       [8.50723870e-03, 2.97419310e-01, 1.84622213e-01, 1.75584164e-02,\n",
              "        4.91892844e-01],\n",
              "       [8.45054090e-01, 7.48724639e-02, 1.87299326e-02, 1.87556185e-02,\n",
              "        4.25879583e-02],\n",
              "       [9.10451591e-01, 4.89525162e-02, 7.53420126e-03, 3.11408788e-02,\n",
              "        1.92075316e-03],\n",
              "       [8.98776198e-05, 4.26455576e-04, 1.44537218e-04, 9.99110401e-01,\n",
              "        2.28625795e-04],\n",
              "       [9.42050040e-01, 3.92025150e-02, 1.68709401e-02, 1.46536878e-03,\n",
              "        4.11095330e-04],\n",
              "       [7.44111955e-01, 3.33659798e-02, 1.43126220e-01, 4.73077334e-02,\n",
              "        3.20881009e-02],\n",
              "       [2.14251668e-05, 9.87221897e-01, 7.64412340e-03, 2.04760022e-03,\n",
              "        3.06503731e-03],\n",
              "       [4.66948152e-01, 3.79447669e-01, 6.22765832e-02, 3.07742078e-02,\n",
              "        6.05533123e-02],\n",
              "       [2.52968613e-02, 7.13881016e-01, 1.80485006e-02, 2.42359743e-01,\n",
              "        4.13828850e-04],\n",
              "       [9.14680898e-01, 1.98701434e-02, 2.10411992e-04, 6.52369857e-02,\n",
              "        1.51480947e-06],\n",
              "       [4.31799883e-04, 1.68939971e-03, 9.33951105e-06, 9.97868180e-01,\n",
              "        1.24838220e-06],\n",
              "       [7.70083934e-05, 9.65397120e-01, 1.04100592e-02, 5.07193850e-03,\n",
              "        1.90438814e-02],\n",
              "       [2.18487773e-02, 1.67624563e-01, 6.10999584e-01, 4.44597041e-04,\n",
              "        1.99082494e-01],\n",
              "       [1.17577845e-02, 5.13950646e-01, 5.38960546e-02, 3.41410518e-01,\n",
              "        7.89850131e-02],\n",
              "       [1.03670813e-01, 6.91554248e-02, 8.45958963e-02, 1.85551628e-01,\n",
              "        5.57026267e-01],\n",
              "       [9.98480856e-01, 3.12480843e-05, 8.11718055e-05, 1.32569566e-03,\n",
              "        8.08811819e-05],\n",
              "       [6.99068457e-02, 5.13915950e-03, 2.84372852e-03, 4.83847827e-01,\n",
              "        4.38262403e-01],\n",
              "       [3.25432956e-01, 5.44261076e-02, 1.33726075e-01, 5.46628796e-02,\n",
              "        4.31751966e-01],\n",
              "       [9.49317997e-04, 7.19350949e-02, 9.24736023e-01, 1.43576006e-03,\n",
              "        9.43808816e-04],\n",
              "       [1.25987890e-05, 1.75933465e-02, 2.00343654e-02, 8.45133211e-04,\n",
              "        9.61514592e-01],\n",
              "       [4.94885258e-04, 2.29601860e-02, 1.22896088e-02, 3.22671235e-03,\n",
              "        9.61028576e-01],\n",
              "       [2.09230930e-03, 9.71645117e-01, 1.27695370e-02, 1.25621920e-02,\n",
              "        9.30751034e-04],\n",
              "       [6.93919254e-04, 9.84343171e-01, 7.46683311e-03, 5.09564159e-03,\n",
              "        2.40039057e-03],\n",
              "       [5.08050174e-02, 3.76144171e-01, 1.31429389e-01, 3.00940592e-02,\n",
              "        4.11527336e-01],\n",
              "       [4.78027552e-01, 9.71563458e-02, 1.48995087e-01, 1.87104777e-01,\n",
              "        8.87162760e-02],\n",
              "       [1.27533451e-02, 8.28223586e-01, 2.18191613e-02, 1.13008559e-01,\n",
              "        2.41953265e-02],\n",
              "       [9.95402813e-01, 3.02851270e-03, 6.80404250e-04, 4.63406177e-05,\n",
              "        8.41856236e-04],\n",
              "       [2.34736735e-03, 9.64046121e-01, 1.03792092e-02, 2.94201280e-04,\n",
              "        2.29330603e-02],\n",
              "       [1.48444413e-03, 4.08803025e-04, 7.31924956e-05, 9.98027265e-01,\n",
              "        6.29136639e-06],\n",
              "       [2.49315286e-04, 2.37867348e-02, 9.57703590e-01, 2.80302542e-04,\n",
              "        1.79801099e-02],\n",
              "       [5.56579307e-02, 9.20758992e-02, 1.62425220e-01, 6.82079971e-01,\n",
              "        7.76095688e-03],\n",
              "       [1.99381466e-04, 9.98644531e-01, 8.20071145e-04, 8.96289566e-05,\n",
              "        2.46397511e-04],\n",
              "       [1.63619450e-04, 7.46070466e-04, 1.83205691e-03, 9.96174276e-01,\n",
              "        1.08413142e-03],\n",
              "       [9.13614407e-02, 3.82910371e-01, 1.93575785e-01, 9.68158394e-02,\n",
              "        2.35336572e-01],\n",
              "       [1.33173860e-04, 8.14185739e-01, 1.01882398e-01, 4.13487181e-02,\n",
              "        4.24499735e-02],\n",
              "       [2.28443313e-02, 3.52932274e-01, 4.03828293e-01, 4.93902676e-02,\n",
              "        1.71004847e-01],\n",
              "       [3.39839538e-03, 1.27111390e-01, 6.14601076e-01, 2.36002266e-01,\n",
              "        1.88868456e-02],\n",
              "       [9.23874736e-01, 9.00174212e-03, 4.60372539e-04, 6.17093667e-02,\n",
              "        4.95368335e-03],\n",
              "       [2.61772200e-02, 7.82895148e-01, 1.74166232e-01, 1.63931008e-02,\n",
              "        3.68242618e-04],\n",
              "       [3.74138617e-04, 9.95851755e-01, 3.13023367e-04, 3.21171456e-03,\n",
              "        2.49346311e-04],\n",
              "       [6.47880197e-01, 7.55082071e-02, 2.68693835e-01, 7.07875425e-03,\n",
              "        8.39042303e-04],\n",
              "       [1.42070837e-06, 2.26850883e-04, 1.03004340e-05, 9.82611891e-06,\n",
              "        9.99751627e-01],\n",
              "       [5.91799796e-01, 5.85133024e-02, 1.43603221e-01, 1.61013722e-01,\n",
              "        4.50698808e-02],\n",
              "       [5.06618479e-03, 9.52058256e-01, 1.63751771e-03, 4.11020853e-02,\n",
              "        1.36018323e-04],\n",
              "       [4.84964781e-04, 3.42566520e-04, 1.39705822e-04, 9.98987854e-01,\n",
              "        4.48873652e-05],\n",
              "       [5.23257069e-04, 1.42069748e-02, 9.77561295e-01, 6.55534165e-03,\n",
              "        1.15317246e-03],\n",
              "       [5.90168655e-01, 3.98579389e-01, 7.45175581e-04, 5.96067449e-03,\n",
              "        4.54607932e-03],\n",
              "       [9.99683380e-01, 5.44249706e-05, 8.12087092e-06, 2.52300611e-04,\n",
              "        1.73824208e-06],\n",
              "       [1.06435327e-03, 5.74510195e-04, 8.21473659e-04, 1.02098333e-02,\n",
              "        9.87329841e-01],\n",
              "       [1.08068809e-02, 9.26812828e-01, 3.53418733e-03, 5.81599474e-02,\n",
              "        6.86182699e-04],\n",
              "       [1.76080614e-02, 3.69723849e-02, 5.56877434e-01, 7.46382847e-02,\n",
              "        3.13903868e-01],\n",
              "       [8.27811658e-01, 2.25684457e-02, 1.43751174e-01, 1.17605331e-03,\n",
              "        4.69266810e-03],\n",
              "       [7.79022798e-02, 6.43469810e-01, 8.93418305e-03, 2.69631356e-01,\n",
              "        6.23596134e-05],\n",
              "       [9.26339984e-01, 3.59472521e-02, 1.85310759e-03, 1.92702806e-03,\n",
              "        3.39324921e-02]], dtype=float32)"
            ]
          },
          "metadata": {},
          "execution_count": 21
        }
      ],
      "source": [
        "y_pred"
      ]
    }
  ],
  "metadata": {
    "accelerator": "GPU",
    "colab": {
      "collapsed_sections": [],
      "name": "Kal_VGG16.ipynb",
      "provenance": []
    },
    "kernelspec": {
      "display_name": "Python 3",
      "name": "python3"
    },
    "language_info": {
      "name": "python"
    }
  },
  "nbformat": 4,
  "nbformat_minor": 0
}